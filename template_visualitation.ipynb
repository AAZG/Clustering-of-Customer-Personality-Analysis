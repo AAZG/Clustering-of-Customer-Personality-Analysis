{
 "cells": [
  {
   "cell_type": "code",
   "execution_count": 1,
   "id": "b4c38883-78e1-49ef-a957-b0137ff376cc",
   "metadata": {},
   "outputs": [],
   "source": [
    "import plotly.graph_objects as go\n",
    "import plotly.io as pio\n",
    "\n",
    "pio.templates['new_template'] = go.layout.Template()\n",
    "pio.templates['new_template']['layout']['font'] = {'family': 'verdana', 'size': 16, 'color': 'white'}\n",
    "pio.templates['new_template']['layout']['paper_bgcolor'] = 'black'\n",
    "pio.templates['new_template']['layout']['plot_bgcolor'] = 'black'\n",
    "pio.templates['new_template']['layout']['xaxis'] = {'title_standoff': 10, 'linecolor': 'black', 'mirror': True, 'gridcolor': '#EEEEEE'}\n",
    "pio.templates['new_template']['layout']['yaxis'] = {'title_standoff': 10, 'linecolor': 'black', 'mirror': True, 'gridcolor': '#EEEEEE'}\n",
    "pio.templates['new_template']['layout']['legend_bgcolor'] = 'rgb(117, 112, 179)'\n",
    "pio.templates['new_template']['layout']['height'] = 700\n",
    "pio.templates['new_template']['layout']['width'] = 1000\n",
    "pio.templates['new_template']['layout']['autosize'] = False\n",
    "\n",
    "pio.templates.default = 'new_template'\n",
    "\n",
    "\n",
    "\n",
    "# import plotly.offline as pyo ## esta linea no funciona en deepnote, comentar\n",
    "# pyo.init_notebook_mode() ## esta linea no funciona en deepnote, comentar"
   ]
  },
  {
   "cell_type": "code",
   "execution_count": 12,
   "id": "6628bb6e-245b-4528-aa89-515648965468",
   "metadata": {},
   "outputs": [],
   "source": [
    "import seaborn as sns\n",
    "import matplotlib.pyplot as plt\n",
    "\n",
    "%matplotlib widget\n",
    "%matplotlib inline\n",
    "\n",
    "\n",
    "sns.set_context(context='notebook')\n",
    "sns.set_style('darkgrid', {\"grid.color\": \".6\", \"grid.linestyle\": \":\"})\n",
    "plt.style.use('dark_background')\n",
    "plt.rcParams['figure.figsize'] = (11, 9.4)"
   ]
  }
 ],
 "metadata": {
  "kernelspec": {
   "display_name": "Python [conda env:root] *",
   "language": "python",
   "name": "conda-root-py"
  },
  "language_info": {
   "codemirror_mode": {
    "name": "ipython",
    "version": 3
   },
   "file_extension": ".py",
   "mimetype": "text/x-python",
   "name": "python",
   "nbconvert_exporter": "python",
   "pygments_lexer": "ipython3",
   "version": "3.8.8"
  }
 },
 "nbformat": 4,
 "nbformat_minor": 5
}
